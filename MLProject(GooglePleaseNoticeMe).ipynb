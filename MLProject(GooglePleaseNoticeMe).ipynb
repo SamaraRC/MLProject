{
  "nbformat": 4,
  "nbformat_minor": 0,
  "metadata": {
    "colab": {
      "provenance": [],
      "mount_file_id": "1_JzmlyboQ0a45BWNk_NXPpX2XuFv9KUl",
      "authorship_tag": "ABX9TyPEZPxRa8XbC1SUx7UuhWpH",
      "include_colab_link": true
    },
    "kernelspec": {
      "name": "python3",
      "display_name": "Python 3"
    },
    "language_info": {
      "name": "python"
    }
  },
  "cells": [
    {
      "cell_type": "markdown",
      "metadata": {
        "id": "view-in-github",
        "colab_type": "text"
      },
      "source": [
        "<a href=\"https://colab.research.google.com/github/SamaraRC/MLProject/blob/main/MLProject(GooglePleaseNoticeMe).ipynb\" target=\"_parent\"><img src=\"https://colab.research.google.com/assets/colab-badge.svg\" alt=\"Open In Colab\"/></a>"
      ]
    },
    {
      "cell_type": "code",
      "execution_count": 1,
      "metadata": {
        "id": "S7agzRsmgRbm"
      },
      "outputs": [],
      "source": [
        "#For the purpouses of this project, a data set is required. I am using a list of oral cancers, to test a rate of early diagnosis.\n",
        "#Here is the link to my data source:\n",
        "#https://www.kaggle.com/datasets/ankushpanday2/oral-cancer-prediction-dataset\n",
        "\n",
        "import pandas as pd\n",
        "from sklearn.model_selection import train_test_split\n",
        "from sklearn.preprocessing import LabelEncoder\n",
        "\n",
        "data = pd.read_csv('/content/drive/MyDrive/oral_cancer_prediction_dataset.csv')\n",
        "\n",
        "\n",
        "#Please note that if you want to do this yourself, you will need to set data as equal to where you save the data."
      ]
    },
    {
      "cell_type": "code",
      "source": [
        "from google.colab import drive\n",
        "drive.mount('/content/drive')"
      ],
      "metadata": {
        "colab": {
          "base_uri": "https://localhost:8080/"
        },
        "id": "7EY7qtA7zllp",
        "outputId": "fee13c81-ccfd-49d7-ef50-970818baa819"
      },
      "execution_count": 2,
      "outputs": [
        {
          "output_type": "stream",
          "name": "stdout",
          "text": [
            "Drive already mounted at /content/drive; to attempt to forcibly remount, call drive.mount(\"/content/drive\", force_remount=True).\n"
          ]
        }
      ]
    },
    {
      "cell_type": "code",
      "source": [
        "x = data.drop(columns=['Early Diagnosis'])"
      ],
      "metadata": {
        "id": "3HlVJwWLeWMT"
      },
      "execution_count": 3,
      "outputs": []
    },
    {
      "cell_type": "code",
      "source": [
        "y = data[['Early Diagnosis']]"
      ],
      "metadata": {
        "id": "ceGE35Rqq0C_"
      },
      "execution_count": 4,
      "outputs": []
    },
    {
      "cell_type": "code",
      "source": [
        "for col in x.select_dtypes(include=['object']).columns:\n",
        "    le = LabelEncoder()\n",
        "    x[col] = le.fit_transform(x[col])"
      ],
      "metadata": {
        "id": "dNglMI2mlVoJ"
      },
      "execution_count": 5,
      "outputs": []
    },
    {
      "cell_type": "code",
      "source": [
        "from sklearn.model_selection import train_test_split\n",
        "x_train, x_test, y_train, y_test = train_test_split(x, y, test_size=0.2)"
      ],
      "metadata": {
        "id": "rBXXECnfxms3"
      },
      "execution_count": 6,
      "outputs": []
    },
    {
      "cell_type": "code",
      "source": [
        "import tensorflow as tf\n",
        "neural = tf.keras.models.Sequential()"
      ],
      "metadata": {
        "id": "0ZqiT19YsptM"
      },
      "execution_count": 7,
      "outputs": []
    },
    {
      "cell_type": "code",
      "source": [
        "neural = tf.keras.models.Sequential()\n",
        "neural.add(tf.keras.layers.Dense(128, input_shape=(x.shape[1],), activation='relu'))\n",
        "neural.add(tf.keras.layers.Dense(128, activation='relu'))\n",
        "neural.add(tf.keras.layers.Dense(1))\n"
      ],
      "metadata": {
        "colab": {
          "base_uri": "https://localhost:8080/"
        },
        "id": "v_o_qKBut3-R",
        "outputId": "dc242268-5629-4a62-cd5a-7017a8fd619e"
      },
      "execution_count": 8,
      "outputs": [
        {
          "output_type": "stream",
          "name": "stderr",
          "text": [
            "/usr/local/lib/python3.11/dist-packages/keras/src/layers/core/dense.py:87: UserWarning: Do not pass an `input_shape`/`input_dim` argument to a layer. When using Sequential models, prefer using an `Input(shape)` object as the first layer in the model instead.\n",
            "  super().__init__(activity_regularizer=activity_regularizer, **kwargs)\n"
          ]
        }
      ]
    },
    {
      "cell_type": "code",
      "source": [
        "neural.compile(optimizer='adam', loss='binary_crossentropy', metrics=['accuracy'])"
      ],
      "metadata": {
        "id": "VPYBAR0av3we"
      },
      "execution_count": 9,
      "outputs": []
    },
    {
      "cell_type": "code",
      "source": [
        "y_train['Early Diagnosis'] = y_train['Early Diagnosis'].map({'Yes': 1, 'No': 0})\n",
        "y_train = y_train.astype(int)\n",
        "neural.fit(x_train, y_train, epochs = 100)"
      ],
      "metadata": {
        "colab": {
          "base_uri": "https://localhost:8080/"
        },
        "id": "wBpv3lg_wLnm",
        "outputId": "a8e6f235-be30-4d42-9387-57b7b58da653"
      },
      "execution_count": 11,
      "outputs": [
        {
          "output_type": "stream",
          "name": "stdout",
          "text": [
            "Epoch 1/100\n",
            "\u001b[1m2124/2124\u001b[0m \u001b[32m━━━━━━━━━━━━━━━━━━━━\u001b[0m\u001b[37m\u001b[0m \u001b[1m9s\u001b[0m 3ms/step - accuracy: 0.5471 - loss: 7.2199\n",
            "Epoch 2/100\n",
            "\u001b[1m2124/2124\u001b[0m \u001b[32m━━━━━━━━━━━━━━━━━━━━\u001b[0m\u001b[37m\u001b[0m \u001b[1m8s\u001b[0m 4ms/step - accuracy: 0.5448 - loss: 7.2570\n",
            "Epoch 3/100\n",
            "\u001b[1m2124/2124\u001b[0m \u001b[32m━━━━━━━━━━━━━━━━━━━━\u001b[0m\u001b[37m\u001b[0m \u001b[1m6s\u001b[0m 3ms/step - accuracy: 0.5465 - loss: 7.2299\n",
            "Epoch 4/100\n",
            "\u001b[1m2124/2124\u001b[0m \u001b[32m━━━━━━━━━━━━━━━━━━━━\u001b[0m\u001b[37m\u001b[0m \u001b[1m11s\u001b[0m 3ms/step - accuracy: 0.5490 - loss: 7.1900\n",
            "Epoch 5/100\n",
            "\u001b[1m2124/2124\u001b[0m \u001b[32m━━━━━━━━━━━━━━━━━━━━\u001b[0m\u001b[37m\u001b[0m \u001b[1m11s\u001b[0m 4ms/step - accuracy: 0.5477 - loss: 7.2102\n",
            "Epoch 6/100\n",
            "\u001b[1m2124/2124\u001b[0m \u001b[32m━━━━━━━━━━━━━━━━━━━━\u001b[0m\u001b[37m\u001b[0m \u001b[1m8s\u001b[0m 3ms/step - accuracy: 0.5485 - loss: 7.1974\n",
            "Epoch 7/100\n",
            "\u001b[1m2124/2124\u001b[0m \u001b[32m━━━━━━━━━━━━━━━━━━━━\u001b[0m\u001b[37m\u001b[0m \u001b[1m8s\u001b[0m 4ms/step - accuracy: 0.5458 - loss: 7.2414\n",
            "Epoch 8/100\n",
            "\u001b[1m2124/2124\u001b[0m \u001b[32m━━━━━━━━━━━━━━━━━━━━\u001b[0m\u001b[37m\u001b[0m \u001b[1m9s\u001b[0m 3ms/step - accuracy: 0.5488 - loss: 7.1936\n",
            "Epoch 9/100\n",
            "\u001b[1m2124/2124\u001b[0m \u001b[32m━━━━━━━━━━━━━━━━━━━━\u001b[0m\u001b[37m\u001b[0m \u001b[1m6s\u001b[0m 3ms/step - accuracy: 0.5492 - loss: 7.1865\n",
            "Epoch 10/100\n",
            "\u001b[1m2124/2124\u001b[0m \u001b[32m━━━━━━━━━━━━━━━━━━━━\u001b[0m\u001b[37m\u001b[0m \u001b[1m5s\u001b[0m 2ms/step - accuracy: 0.5462 - loss: 7.2340\n",
            "Epoch 11/100\n",
            "\u001b[1m2124/2124\u001b[0m \u001b[32m━━━━━━━━━━━━━━━━━━━━\u001b[0m\u001b[37m\u001b[0m \u001b[1m7s\u001b[0m 3ms/step - accuracy: 0.5480 - loss: 7.2060\n",
            "Epoch 12/100\n",
            "\u001b[1m2124/2124\u001b[0m \u001b[32m━━━━━━━━━━━━━━━━━━━━\u001b[0m\u001b[37m\u001b[0m \u001b[1m10s\u001b[0m 3ms/step - accuracy: 0.5436 - loss: 7.2758\n",
            "Epoch 13/100\n",
            "\u001b[1m2124/2124\u001b[0m \u001b[32m━━━━━━━━━━━━━━━━━━━━\u001b[0m\u001b[37m\u001b[0m \u001b[1m10s\u001b[0m 3ms/step - accuracy: 0.5487 - loss: 7.1950\n",
            "Epoch 14/100\n",
            "\u001b[1m2124/2124\u001b[0m \u001b[32m━━━━━━━━━━━━━━━━━━━━\u001b[0m\u001b[37m\u001b[0m \u001b[1m10s\u001b[0m 5ms/step - accuracy: 0.5457 - loss: 7.2434\n",
            "Epoch 15/100\n",
            "\u001b[1m2124/2124\u001b[0m \u001b[32m━━━━━━━━━━━━━━━━━━━━\u001b[0m\u001b[37m\u001b[0m \u001b[1m6s\u001b[0m 3ms/step - accuracy: 0.5492 - loss: 7.1861\n",
            "Epoch 16/100\n",
            "\u001b[1m2124/2124\u001b[0m \u001b[32m━━━━━━━━━━━━━━━━━━━━\u001b[0m\u001b[37m\u001b[0m \u001b[1m10s\u001b[0m 3ms/step - accuracy: 0.5457 - loss: 7.2430\n",
            "Epoch 17/100\n",
            "\u001b[1m2124/2124\u001b[0m \u001b[32m━━━━━━━━━━━━━━━━━━━━\u001b[0m\u001b[37m\u001b[0m \u001b[1m7s\u001b[0m 3ms/step - accuracy: 0.5489 - loss: 7.1922\n",
            "Epoch 18/100\n",
            "\u001b[1m2124/2124\u001b[0m \u001b[32m━━━━━━━━━━━━━━━━━━━━\u001b[0m\u001b[37m\u001b[0m \u001b[1m9s\u001b[0m 3ms/step - accuracy: 0.5489 - loss: 7.1913\n",
            "Epoch 19/100\n",
            "\u001b[1m2124/2124\u001b[0m \u001b[32m━━━━━━━━━━━━━━━━━━━━\u001b[0m\u001b[37m\u001b[0m \u001b[1m8s\u001b[0m 4ms/step - accuracy: 0.5511 - loss: 7.1563\n",
            "Epoch 20/100\n",
            "\u001b[1m2124/2124\u001b[0m \u001b[32m━━━━━━━━━━━━━━━━━━━━\u001b[0m\u001b[37m\u001b[0m \u001b[1m15s\u001b[0m 6ms/step - accuracy: 0.5454 - loss: 7.2478\n",
            "Epoch 21/100\n",
            "\u001b[1m2124/2124\u001b[0m \u001b[32m━━━━━━━━━━━━━━━━━━━━\u001b[0m\u001b[37m\u001b[0m \u001b[1m13s\u001b[0m 6ms/step - accuracy: 0.5462 - loss: 7.2349\n",
            "Epoch 22/100\n",
            "\u001b[1m2124/2124\u001b[0m \u001b[32m━━━━━━━━━━━━━━━━━━━━\u001b[0m\u001b[37m\u001b[0m \u001b[1m15s\u001b[0m 4ms/step - accuracy: 0.5451 - loss: 7.2520\n",
            "Epoch 23/100\n",
            "\u001b[1m2124/2124\u001b[0m \u001b[32m━━━━━━━━━━━━━━━━━━━━\u001b[0m\u001b[37m\u001b[0m \u001b[1m6s\u001b[0m 3ms/step - accuracy: 0.5466 - loss: 7.2276\n",
            "Epoch 24/100\n",
            "\u001b[1m2124/2124\u001b[0m \u001b[32m━━━━━━━━━━━━━━━━━━━━\u001b[0m\u001b[37m\u001b[0m \u001b[1m12s\u001b[0m 4ms/step - accuracy: 0.5471 - loss: 7.2203\n",
            "Epoch 25/100\n",
            "\u001b[1m2124/2124\u001b[0m \u001b[32m━━━━━━━━━━━━━━━━━━━━\u001b[0m\u001b[37m\u001b[0m \u001b[1m9s\u001b[0m 3ms/step - accuracy: 0.5484 - loss: 7.2003\n",
            "Epoch 26/100\n",
            "\u001b[1m2124/2124\u001b[0m \u001b[32m━━━━━━━━━━━━━━━━━━━━\u001b[0m\u001b[37m\u001b[0m \u001b[1m9s\u001b[0m 3ms/step - accuracy: 0.5469 - loss: 7.2243\n",
            "Epoch 27/100\n",
            "\u001b[1m2124/2124\u001b[0m \u001b[32m━━━━━━━━━━━━━━━━━━━━\u001b[0m\u001b[37m\u001b[0m \u001b[1m11s\u001b[0m 3ms/step - accuracy: 0.5467 - loss: 7.2267\n",
            "Epoch 28/100\n",
            "\u001b[1m2124/2124\u001b[0m \u001b[32m━━━━━━━━━━━━━━━━━━━━\u001b[0m\u001b[37m\u001b[0m \u001b[1m11s\u001b[0m 3ms/step - accuracy: 0.5505 - loss: 7.1654\n",
            "Epoch 29/100\n",
            "\u001b[1m2124/2124\u001b[0m \u001b[32m━━━━━━━━━━━━━━━━━━━━\u001b[0m\u001b[37m\u001b[0m \u001b[1m6s\u001b[0m 3ms/step - accuracy: 0.5488 - loss: 7.1928\n",
            "Epoch 30/100\n",
            "\u001b[1m2124/2124\u001b[0m \u001b[32m━━━━━━━━━━━━━━━━━━━━\u001b[0m\u001b[37m\u001b[0m \u001b[1m8s\u001b[0m 4ms/step - accuracy: 0.5483 - loss: 7.2018\n",
            "Epoch 31/100\n",
            "\u001b[1m2124/2124\u001b[0m \u001b[32m━━━━━━━━━━━━━━━━━━━━\u001b[0m\u001b[37m\u001b[0m \u001b[1m6s\u001b[0m 3ms/step - accuracy: 0.5481 - loss: 7.2044\n",
            "Epoch 32/100\n",
            "\u001b[1m2124/2124\u001b[0m \u001b[32m━━━━━━━━━━━━━━━━━━━━\u001b[0m\u001b[37m\u001b[0m \u001b[1m8s\u001b[0m 4ms/step - accuracy: 0.5482 - loss: 7.2025\n",
            "Epoch 33/100\n",
            "\u001b[1m2124/2124\u001b[0m \u001b[32m━━━━━━━━━━━━━━━━━━━━\u001b[0m\u001b[37m\u001b[0m \u001b[1m6s\u001b[0m 3ms/step - accuracy: 0.5500 - loss: 7.1733\n",
            "Epoch 34/100\n",
            "\u001b[1m2124/2124\u001b[0m \u001b[32m━━━━━━━━━━━━━━━━━━━━\u001b[0m\u001b[37m\u001b[0m \u001b[1m8s\u001b[0m 4ms/step - accuracy: 0.5467 - loss: 7.2273\n",
            "Epoch 35/100\n",
            "\u001b[1m2124/2124\u001b[0m \u001b[32m━━━━━━━━━━━━━━━━━━━━\u001b[0m\u001b[37m\u001b[0m \u001b[1m6s\u001b[0m 3ms/step - accuracy: 0.5482 - loss: 7.2032\n",
            "Epoch 36/100\n",
            "\u001b[1m2124/2124\u001b[0m \u001b[32m━━━━━━━━━━━━━━━━━━━━\u001b[0m\u001b[37m\u001b[0m \u001b[1m10s\u001b[0m 3ms/step - accuracy: 0.5496 - loss: 7.1810\n",
            "Epoch 37/100\n",
            "\u001b[1m2124/2124\u001b[0m \u001b[32m━━━━━━━━━━━━━━━━━━━━\u001b[0m\u001b[37m\u001b[0m \u001b[1m11s\u001b[0m 4ms/step - accuracy: 0.5446 - loss: 7.2594\n",
            "Epoch 38/100\n",
            "\u001b[1m2124/2124\u001b[0m \u001b[32m━━━━━━━━━━━━━━━━━━━━\u001b[0m\u001b[37m\u001b[0m \u001b[1m8s\u001b[0m 3ms/step - accuracy: 0.5467 - loss: 7.2271\n",
            "Epoch 39/100\n",
            "\u001b[1m2124/2124\u001b[0m \u001b[32m━━━━━━━━━━━━━━━━━━━━\u001b[0m\u001b[37m\u001b[0m \u001b[1m10s\u001b[0m 3ms/step - accuracy: 0.5487 - loss: 7.1954\n",
            "Epoch 40/100\n",
            "\u001b[1m2124/2124\u001b[0m \u001b[32m━━━━━━━━━━━━━━━━━━━━\u001b[0m\u001b[37m\u001b[0m \u001b[1m11s\u001b[0m 3ms/step - accuracy: 0.5508 - loss: 7.1609\n",
            "Epoch 41/100\n",
            "\u001b[1m2124/2124\u001b[0m \u001b[32m━━━━━━━━━━━━━━━━━━━━\u001b[0m\u001b[37m\u001b[0m \u001b[1m12s\u001b[0m 4ms/step - accuracy: 0.5474 - loss: 7.2155\n",
            "Epoch 42/100\n",
            "\u001b[1m2124/2124\u001b[0m \u001b[32m━━━━━━━━━━━━━━━━━━━━\u001b[0m\u001b[37m\u001b[0m \u001b[1m6s\u001b[0m 3ms/step - accuracy: 0.5486 - loss: 7.1970\n",
            "Epoch 43/100\n",
            "\u001b[1m2124/2124\u001b[0m \u001b[32m━━━━━━━━━━━━━━━━━━━━\u001b[0m\u001b[37m\u001b[0m \u001b[1m8s\u001b[0m 4ms/step - accuracy: 0.5483 - loss: 7.2011\n",
            "Epoch 44/100\n",
            "\u001b[1m2124/2124\u001b[0m \u001b[32m━━━━━━━━━━━━━━━━━━━━\u001b[0m\u001b[37m\u001b[0m \u001b[1m10s\u001b[0m 3ms/step - accuracy: 0.5487 - loss: 7.1941\n",
            "Epoch 45/100\n",
            "\u001b[1m2124/2124\u001b[0m \u001b[32m━━━━━━━━━━━━━━━━━━━━\u001b[0m\u001b[37m\u001b[0m \u001b[1m9s\u001b[0m 3ms/step - accuracy: 0.5462 - loss: 7.2346\n",
            "Epoch 46/100\n",
            "\u001b[1m2124/2124\u001b[0m \u001b[32m━━━━━━━━━━━━━━━━━━━━\u001b[0m\u001b[37m\u001b[0m \u001b[1m8s\u001b[0m 4ms/step - accuracy: 0.5506 - loss: 7.1640\n",
            "Epoch 47/100\n",
            "\u001b[1m2124/2124\u001b[0m \u001b[32m━━━━━━━━━━━━━━━━━━━━\u001b[0m\u001b[37m\u001b[0m \u001b[1m6s\u001b[0m 3ms/step - accuracy: 0.5467 - loss: 7.2274\n",
            "Epoch 48/100\n",
            "\u001b[1m2124/2124\u001b[0m \u001b[32m━━━━━━━━━━━━━━━━━━━━\u001b[0m\u001b[37m\u001b[0m \u001b[1m8s\u001b[0m 4ms/step - accuracy: 0.5452 - loss: 7.2512\n",
            "Epoch 49/100\n",
            "\u001b[1m2124/2124\u001b[0m \u001b[32m━━━━━━━━━━━━━━━━━━━━\u001b[0m\u001b[37m\u001b[0m \u001b[1m8s\u001b[0m 3ms/step - accuracy: 0.5441 - loss: 7.2682\n",
            "Epoch 50/100\n",
            "\u001b[1m2124/2124\u001b[0m \u001b[32m━━━━━━━━━━━━━━━━━━━━\u001b[0m\u001b[37m\u001b[0m \u001b[1m7s\u001b[0m 3ms/step - accuracy: 0.5475 - loss: 7.2147\n",
            "Epoch 51/100\n",
            "\u001b[1m2124/2124\u001b[0m \u001b[32m━━━━━━━━━━━━━━━━━━━━\u001b[0m\u001b[37m\u001b[0m \u001b[1m10s\u001b[0m 3ms/step - accuracy: 0.5480 - loss: 7.2057\n",
            "Epoch 52/100\n",
            "\u001b[1m2124/2124\u001b[0m \u001b[32m━━━━━━━━━━━━━━━━━━━━\u001b[0m\u001b[37m\u001b[0m \u001b[1m6s\u001b[0m 3ms/step - accuracy: 0.5442 - loss: 7.2663\n",
            "Epoch 53/100\n",
            "\u001b[1m2124/2124\u001b[0m \u001b[32m━━━━━━━━━━━━━━━━━━━━\u001b[0m\u001b[37m\u001b[0m \u001b[1m12s\u001b[0m 4ms/step - accuracy: 0.5495 - loss: 7.1826\n",
            "Epoch 54/100\n",
            "\u001b[1m2124/2124\u001b[0m \u001b[32m━━━━━━━━━━━━━━━━━━━━\u001b[0m\u001b[37m\u001b[0m \u001b[1m7s\u001b[0m 3ms/step - accuracy: 0.5481 - loss: 7.2036\n",
            "Epoch 55/100\n",
            "\u001b[1m2124/2124\u001b[0m \u001b[32m━━━━━━━━━━━━━━━━━━━━\u001b[0m\u001b[37m\u001b[0m \u001b[1m10s\u001b[0m 3ms/step - accuracy: 0.5489 - loss: 7.1922\n",
            "Epoch 56/100\n",
            "\u001b[1m2124/2124\u001b[0m \u001b[32m━━━━━━━━━━━━━━━━━━━━\u001b[0m\u001b[37m\u001b[0m \u001b[1m11s\u001b[0m 4ms/step - accuracy: 0.5490 - loss: 7.1896\n",
            "Epoch 57/100\n",
            "\u001b[1m2124/2124\u001b[0m \u001b[32m━━━━━━━━━━━━━━━━━━━━\u001b[0m\u001b[37m\u001b[0m \u001b[1m10s\u001b[0m 4ms/step - accuracy: 0.5464 - loss: 7.2321\n",
            "Epoch 58/100\n",
            "\u001b[1m2124/2124\u001b[0m \u001b[32m━━━━━━━━━━━━━━━━━━━━\u001b[0m\u001b[37m\u001b[0m \u001b[1m6s\u001b[0m 3ms/step - accuracy: 0.5481 - loss: 7.2048\n",
            "Epoch 59/100\n",
            "\u001b[1m2124/2124\u001b[0m \u001b[32m━━━━━━━━━━━━━━━━━━━━\u001b[0m\u001b[37m\u001b[0m \u001b[1m8s\u001b[0m 4ms/step - accuracy: 0.5482 - loss: 7.2035\n",
            "Epoch 60/100\n",
            "\u001b[1m2124/2124\u001b[0m \u001b[32m━━━━━━━━━━━━━━━━━━━━\u001b[0m\u001b[37m\u001b[0m \u001b[1m6s\u001b[0m 3ms/step - accuracy: 0.5481 - loss: 7.2043\n",
            "Epoch 61/100\n",
            "\u001b[1m2124/2124\u001b[0m \u001b[32m━━━━━━━━━━━━━━━━━━━━\u001b[0m\u001b[37m\u001b[0m \u001b[1m12s\u001b[0m 3ms/step - accuracy: 0.5463 - loss: 7.2323\n",
            "Epoch 62/100\n",
            "\u001b[1m2124/2124\u001b[0m \u001b[32m━━━━━━━━━━━━━━━━━━━━\u001b[0m\u001b[37m\u001b[0m \u001b[1m11s\u001b[0m 4ms/step - accuracy: 0.5488 - loss: 7.1929\n",
            "Epoch 63/100\n",
            "\u001b[1m2124/2124\u001b[0m \u001b[32m━━━━━━━━━━━━━━━━━━━━\u001b[0m\u001b[37m\u001b[0m \u001b[1m6s\u001b[0m 3ms/step - accuracy: 0.5475 - loss: 7.2133\n",
            "Epoch 64/100\n",
            "\u001b[1m2124/2124\u001b[0m \u001b[32m━━━━━━━━━━━━━━━━━━━━\u001b[0m\u001b[37m\u001b[0m \u001b[1m11s\u001b[0m 3ms/step - accuracy: 0.5450 - loss: 7.2534\n",
            "Epoch 65/100\n",
            "\u001b[1m2124/2124\u001b[0m \u001b[32m━━━━━━━━━━━━━━━━━━━━\u001b[0m\u001b[37m\u001b[0m \u001b[1m11s\u001b[0m 4ms/step - accuracy: 0.5488 - loss: 7.1939\n",
            "Epoch 66/100\n",
            "\u001b[1m2124/2124\u001b[0m \u001b[32m━━━━━━━━━━━━━━━━━━━━\u001b[0m\u001b[37m\u001b[0m \u001b[1m6s\u001b[0m 3ms/step - accuracy: 0.5481 - loss: 7.2041\n",
            "Epoch 67/100\n",
            "\u001b[1m2124/2124\u001b[0m \u001b[32m━━━━━━━━━━━━━━━━━━━━\u001b[0m\u001b[37m\u001b[0m \u001b[1m8s\u001b[0m 4ms/step - accuracy: 0.5487 - loss: 7.1946\n",
            "Epoch 68/100\n",
            "\u001b[1m2124/2124\u001b[0m \u001b[32m━━━━━━━━━━━━━━━━━━━━\u001b[0m\u001b[37m\u001b[0m \u001b[1m6s\u001b[0m 3ms/step - accuracy: 0.5506 - loss: 7.1651\n",
            "Epoch 69/100\n",
            "\u001b[1m2124/2124\u001b[0m \u001b[32m━━━━━━━━━━━━━━━━━━━━\u001b[0m\u001b[37m\u001b[0m \u001b[1m7s\u001b[0m 3ms/step - accuracy: 0.5474 - loss: 7.2153\n",
            "Epoch 70/100\n",
            "\u001b[1m2124/2124\u001b[0m \u001b[32m━━━━━━━━━━━━━━━━━━━━\u001b[0m\u001b[37m\u001b[0m \u001b[1m9s\u001b[0m 3ms/step - accuracy: 0.5489 - loss: 7.1917\n",
            "Epoch 71/100\n",
            "\u001b[1m2124/2124\u001b[0m \u001b[32m━━━━━━━━━━━━━━━━━━━━\u001b[0m\u001b[37m\u001b[0m \u001b[1m10s\u001b[0m 3ms/step - accuracy: 0.5449 - loss: 7.2548\n",
            "Epoch 72/100\n",
            "\u001b[1m2124/2124\u001b[0m \u001b[32m━━━━━━━━━━━━━━━━━━━━\u001b[0m\u001b[37m\u001b[0m \u001b[1m11s\u001b[0m 3ms/step - accuracy: 0.5481 - loss: 7.2043\n",
            "Epoch 73/100\n",
            "\u001b[1m2124/2124\u001b[0m \u001b[32m━━━━━━━━━━━━━━━━━━━━\u001b[0m\u001b[37m\u001b[0m \u001b[1m11s\u001b[0m 4ms/step - accuracy: 0.5493 - loss: 7.1852\n",
            "Epoch 74/100\n",
            "\u001b[1m2124/2124\u001b[0m \u001b[32m━━━━━━━━━━━━━━━━━━━━\u001b[0m\u001b[37m\u001b[0m \u001b[1m6s\u001b[0m 3ms/step - accuracy: 0.5484 - loss: 7.1990\n",
            "Epoch 75/100\n",
            "\u001b[1m2124/2124\u001b[0m \u001b[32m━━━━━━━━━━━━━━━━━━━━\u001b[0m\u001b[37m\u001b[0m \u001b[1m11s\u001b[0m 3ms/step - accuracy: 0.5456 - loss: 7.2443\n",
            "Epoch 76/100\n",
            "\u001b[1m2124/2124\u001b[0m \u001b[32m━━━━━━━━━━━━━━━━━━━━\u001b[0m\u001b[37m\u001b[0m \u001b[1m7s\u001b[0m 3ms/step - accuracy: 0.5476 - loss: 7.2119\n",
            "Epoch 77/100\n",
            "\u001b[1m2124/2124\u001b[0m \u001b[32m━━━━━━━━━━━━━━━━━━━━\u001b[0m\u001b[37m\u001b[0m \u001b[1m10s\u001b[0m 3ms/step - accuracy: 0.5465 - loss: 7.2294\n",
            "Epoch 78/100\n",
            "\u001b[1m2124/2124\u001b[0m \u001b[32m━━━━━━━━━━━━━━━━━━━━\u001b[0m\u001b[37m\u001b[0m \u001b[1m8s\u001b[0m 4ms/step - accuracy: 0.5516 - loss: 7.1491\n",
            "Epoch 79/100\n",
            "\u001b[1m2124/2124\u001b[0m \u001b[32m━━━━━━━━━━━━━━━━━━━━\u001b[0m\u001b[37m\u001b[0m \u001b[1m6s\u001b[0m 3ms/step - accuracy: 0.5474 - loss: 7.2162\n",
            "Epoch 80/100\n",
            "\u001b[1m2124/2124\u001b[0m \u001b[32m━━━━━━━━━━━━━━━━━━━━\u001b[0m\u001b[37m\u001b[0m \u001b[1m8s\u001b[0m 4ms/step - accuracy: 0.5513 - loss: 7.1527\n",
            "Epoch 81/100\n",
            "\u001b[1m2124/2124\u001b[0m \u001b[32m━━━━━━━━━━━━━━━━━━━━\u001b[0m\u001b[37m\u001b[0m \u001b[1m5s\u001b[0m 3ms/step - accuracy: 0.5485 - loss: 7.1986\n",
            "Epoch 82/100\n",
            "\u001b[1m2124/2124\u001b[0m \u001b[32m━━━━━━━━━━━━━━━━━━━━\u001b[0m\u001b[37m\u001b[0m \u001b[1m11s\u001b[0m 3ms/step - accuracy: 0.5468 - loss: 7.2246\n",
            "Epoch 83/100\n",
            "\u001b[1m2124/2124\u001b[0m \u001b[32m━━━━━━━━━━━━━━━━━━━━\u001b[0m\u001b[37m\u001b[0m \u001b[1m10s\u001b[0m 5ms/step - accuracy: 0.5505 - loss: 7.1659\n",
            "Epoch 84/100\n",
            "\u001b[1m2124/2124\u001b[0m \u001b[32m━━━━━━━━━━━━━━━━━━━━\u001b[0m\u001b[37m\u001b[0m \u001b[1m6s\u001b[0m 3ms/step - accuracy: 0.5482 - loss: 7.2020\n",
            "Epoch 85/100\n",
            "\u001b[1m2124/2124\u001b[0m \u001b[32m━━━━━━━━━━━━━━━━━━━━\u001b[0m\u001b[37m\u001b[0m \u001b[1m11s\u001b[0m 3ms/step - accuracy: 0.5482 - loss: 7.2021\n",
            "Epoch 86/100\n",
            "\u001b[1m2124/2124\u001b[0m \u001b[32m━━━━━━━━━━━━━━━━━━━━\u001b[0m\u001b[37m\u001b[0m \u001b[1m10s\u001b[0m 3ms/step - accuracy: 0.5467 - loss: 7.2263\n",
            "Epoch 87/100\n",
            "\u001b[1m2124/2124\u001b[0m \u001b[32m━━━━━━━━━━━━━━━━━━━━\u001b[0m\u001b[37m\u001b[0m \u001b[1m9s\u001b[0m 3ms/step - accuracy: 0.5450 - loss: 7.2541\n",
            "Epoch 88/100\n",
            "\u001b[1m2124/2124\u001b[0m \u001b[32m━━━━━━━━━━━━━━━━━━━━\u001b[0m\u001b[37m\u001b[0m \u001b[1m7s\u001b[0m 3ms/step - accuracy: 0.5476 - loss: 7.2128\n",
            "Epoch 89/100\n",
            "\u001b[1m2124/2124\u001b[0m \u001b[32m━━━━━━━━━━━━━━━━━━━━\u001b[0m\u001b[37m\u001b[0m \u001b[1m6s\u001b[0m 3ms/step - accuracy: 0.5495 - loss: 7.1816\n",
            "Epoch 90/100\n",
            "\u001b[1m2124/2124\u001b[0m \u001b[32m━━━━━━━━━━━━━━━━━━━━\u001b[0m\u001b[37m\u001b[0m \u001b[1m11s\u001b[0m 3ms/step - accuracy: 0.5456 - loss: 7.2440\n",
            "Epoch 91/100\n",
            "\u001b[1m2124/2124\u001b[0m \u001b[32m━━━━━━━━━━━━━━━━━━━━\u001b[0m\u001b[37m\u001b[0m \u001b[1m11s\u001b[0m 4ms/step - accuracy: 0.5479 - loss: 7.2080\n",
            "Epoch 92/100\n",
            "\u001b[1m2124/2124\u001b[0m \u001b[32m━━━━━━━━━━━━━━━━━━━━\u001b[0m\u001b[37m\u001b[0m \u001b[1m9s\u001b[0m 3ms/step - accuracy: 0.5499 - loss: 7.1765\n",
            "Epoch 93/100\n",
            "\u001b[1m2124/2124\u001b[0m \u001b[32m━━━━━━━━━━━━━━━━━━━━\u001b[0m\u001b[37m\u001b[0m \u001b[1m7s\u001b[0m 3ms/step - accuracy: 0.5463 - loss: 7.2337\n",
            "Epoch 94/100\n",
            "\u001b[1m2124/2124\u001b[0m \u001b[32m━━━━━━━━━━━━━━━━━━━━\u001b[0m\u001b[37m\u001b[0m \u001b[1m11s\u001b[0m 4ms/step - accuracy: 0.5499 - loss: 7.1764\n",
            "Epoch 95/100\n",
            "\u001b[1m2124/2124\u001b[0m \u001b[32m━━━━━━━━━━━━━━━━━━━━\u001b[0m\u001b[37m\u001b[0m \u001b[1m6s\u001b[0m 3ms/step - accuracy: 0.5493 - loss: 7.1857\n",
            "Epoch 96/100\n",
            "\u001b[1m2124/2124\u001b[0m \u001b[32m━━━━━━━━━━━━━━━━━━━━\u001b[0m\u001b[37m\u001b[0m \u001b[1m8s\u001b[0m 4ms/step - accuracy: 0.5489 - loss: 7.1920\n",
            "Epoch 97/100\n",
            "\u001b[1m2124/2124\u001b[0m \u001b[32m━━━━━━━━━━━━━━━━━━━━\u001b[0m\u001b[37m\u001b[0m \u001b[1m9s\u001b[0m 3ms/step - accuracy: 0.5459 - loss: 7.2389\n",
            "Epoch 98/100\n",
            "\u001b[1m2124/2124\u001b[0m \u001b[32m━━━━━━━━━━━━━━━━━━━━\u001b[0m\u001b[37m\u001b[0m \u001b[1m10s\u001b[0m 3ms/step - accuracy: 0.5484 - loss: 7.1998\n",
            "Epoch 99/100\n",
            "\u001b[1m2124/2124\u001b[0m \u001b[32m━━━━━━━━━━━━━━━━━━━━\u001b[0m\u001b[37m\u001b[0m \u001b[1m11s\u001b[0m 3ms/step - accuracy: 0.5508 - loss: 7.1620\n",
            "Epoch 100/100\n",
            "\u001b[1m2124/2124\u001b[0m \u001b[32m━━━━━━━━━━━━━━━━━━━━\u001b[0m\u001b[37m\u001b[0m \u001b[1m11s\u001b[0m 4ms/step - accuracy: 0.5504 - loss: 7.1671\n"
          ]
        },
        {
          "output_type": "execute_result",
          "data": {
            "text/plain": [
              "<keras.src.callbacks.history.History at 0x7a13f0ca1d90>"
            ]
          },
          "metadata": {},
          "execution_count": 11
        }
      ]
    },
    {
      "cell_type": "code",
      "source": [
        "y_test['Early Diagnosis'] = y_test['Early Diagnosis'].map({'Yes': 1, 'No': 0})\n",
        "y_test = y_test.astype(int)\n",
        "neural.evaluate(x_test, y_test)"
      ],
      "metadata": {
        "colab": {
          "base_uri": "https://localhost:8080/"
        },
        "id": "3_mPdKypmfB6",
        "outputId": "ea36ebbb-300a-4e2e-fc69-1f75d548b695"
      },
      "execution_count": 12,
      "outputs": [
        {
          "output_type": "stream",
          "name": "stdout",
          "text": [
            "\u001b[1m531/531\u001b[0m \u001b[32m━━━━━━━━━━━━━━━━━━━━\u001b[0m\u001b[37m\u001b[0m \u001b[1m4s\u001b[0m 7ms/step - accuracy: 0.5502 - loss: 7.1713\n"
          ]
        },
        {
          "output_type": "execute_result",
          "data": {
            "text/plain": [
              "[7.190743923187256, 0.548954963684082]"
            ]
          },
          "metadata": {},
          "execution_count": 12
        }
      ]
    }
  ]
}